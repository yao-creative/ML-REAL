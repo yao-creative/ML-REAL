{
 "cells": [
  {
   "cell_type": "markdown",
   "metadata": {},
   "source": [
    "# Import packages"
   ]
  },
  {
   "cell_type": "code",
   "execution_count": 2,
   "metadata": {},
   "outputs": [],
   "source": [
    "import wikipediaapi\n",
    "import random\n",
    "import spacy\n",
    "import re\n",
    "import numpy as np\n",
    "import matplotlib.pyplot as plt\n",
    "from sklearn.cluster import KMeans\n",
    "from sklearn.decomposition import PCA\n"
   ]
  },
  {
   "cell_type": "markdown",
   "metadata": {},
   "source": [
    "# Install dependencies"
   ]
  },
  {
   "cell_type": "markdown",
   "metadata": {},
   "source": [
    "# Load dataset"
   ]
  },
  {
   "cell_type": "code",
   "execution_count": 3,
   "metadata": {},
   "outputs": [],
   "source": [
    "# list of keywords per topic\n",
    "history_keywords = ['Allied Powers', 'Axis Powers', 'Appeasement', 'Central Powers', 'Duma', 'Fascism', 'Great Depression', 'Holocaust', 'League of Nations', 'Mandate', 'Mexican Revolution', 'Pan-Slavic movement', 'Reparations', 'Revolution of  (Russia)', 'Russo-Japanese War', 'Spanish Civil War', 'Tahran Conference', 'Treaty of Versailles', 'United Nations', 'Yalta Conference ', 'Afrikaners', 'Apartheid', 'AyatollahKhomeini', 'Berlin Wall', 'Brinkmanship', 'Coalition', 'Cold War', 'Collectivization', 'Containment', 'Cuban Missile Crisis', 'CulturalRevolution', 'Five Year Plans', 'Geneva Conference', 'Genocide', 'Glasnost', 'Great Leap Forward', 'Guomindang', 'Iron Curtain', 'Marshall Plan ', 'May Fourth Movement', 'New Economic Policy (NEP)', 'Nonalignment', 'North Atlantic treaty Organization (NATO)', 'Prague Spring', 'Great Purges', 'Red Guard', 'Tiananmen Square', 'Truman Doctrine', 'Warsaw Pact ', 'Al-Qaeda', 'Cartels', 'InternationalMonetary Fund (IMF)', 'Persian Gulf War ', 'World Bank ', 'European Economic Community (EEC)', 'European Union/Euro', 'North American Free Trade Agreement (NAFTA)', 'Organization of Petroleum Exporting Countries (OPEC)', 'World Trade Organization (WTO)', 'Helsinki Accords', 'Evangelical ', 'Fundamentalism', 'Mass consumerism', 'New Deal', 'Welfare state', 'Green Revolution', 'Guest workers', 'Ozone depletion', 'Totalitarian', 'Tariff', 'Woodrow Wilson', 'Fourteen Points', 'Bolsheviks', 'Fascism', 'Adolf Hitler', 'Winston Churchill', 'Total War', 'Joseph Stalin', 'Lenin', 'Mao Zedong', 'Nikita Khrushchev', 'Mikhail Gorbachev', 'Deng Xiaoping', 'Mahatma Gandhi', 'Muslim League', 'Muhammad Ali Jinnah', 'African national Congress', 'Nelson Mandela ', 'Black Shirts', 'Berlin Wall']\n",
    "math_keywords = ['Absolute differential calculus', 'Absolute geometry', 'Abstract algebra', 'Abstract analytic number theory', 'Abstract differential geometry', 'Abstract harmonic analysis', 'Abstract homotopy theory', 'Actuarial science', 'Additive combinatorics', 'Additive number theory', 'Affine geometry', 'Affine geometry of curves', 'Affine differential geometry', 'Ahlfors theory', 'Algebra', 'Algebraic analysis', 'Algebraic combinatorics', 'Algebraic computation', 'Algebraic geometry', 'Algebraic graph theory', 'Algebraic K-theory', 'Algebraic number theory', 'Algebraic statistics', 'Algebraic topology', 'Algorithmic number theory', 'Anabelian geometry', 'Analysis', 'Analytic combinatorics', 'Analytic geometry', 'Analytic number theory', 'Applied mathematics', 'Approximation theory', 'Arakelov geometry', 'Arakelov theory', 'Arithmetic', 'Arithmetic algebraic geometry', 'Arithmetic combinatorics', 'Arithmetic dynamics', 'Arithmetic geometry', 'Arithmetic topology', 'Arithmetical algebraic geometry', 'Asymptotic combinatorics', 'Asymptotic theory', 'Auslander–Reiten theory', 'Axiomatic geometry', 'Axiomatic set theory', 'Bifurcation theory', 'Biostatistics', 'Birational geometry', 'Bolyai–Lobachevskian geometry', 'C*-algebra theory', 'Cartesian geometry', 'Calculus', 'Calculus of infinitesimals', 'Calculus of moving surfaces', 'Calculus of variations', 'Catastrophe theory', 'Categorical logic', 'Category theory', 'Chaos theory', 'Character theory', 'Class field theory', 'Classical differential geometry', 'Classical analysis', 'Classical Euclidean geometry', 'Classical geometry', 'Classical invariant theory', 'Classical mathematics', 'Clifford analysis', 'Coding theory', 'Combinatorial commutative algebra', 'Combinatorial design theory', 'Combinatorial geometry', 'Combinatorial group theory', 'Combinatorial mathematics', 'Combinatorial set theory', 'Combinatorial topology', 'Combinatorics', 'Commutative algebra', 'Complex algebraic geometry', 'Complex analysis', 'Complex analytic dynamics', 'Complex analytic geometry', 'Complex differential geometry', 'Complex dynamics', 'Complex geometry', 'Complexity theory', 'Computable analysis', 'Computable model theory', 'Computability theory', 'Computational complexity theory', 'Computational geometry', 'Computational group theory', 'Computational mathematics', 'Computational number theory', 'Computer algebra', 'Conformal geometry', 'Constructive analysis', 'Constructive function theory', 'Constructive mathematics', 'Constructive quantum field theory', 'Constructive set theory', 'Contact geometry', 'Convex analysis', 'Convex geometry', 'Coordinate geometry', 'CR geometry', 'Descriptive set theory', 'Differential algebraic geometry', 'Differential calculus', 'Differential Galois theory', 'Differential geometry', 'Differential geometry of curves', 'Differential geometry of surfaces', 'Differential topology', 'Diophantine geometry', 'Discrete geometry', 'Discrete mathematics', 'Discrete Morse theory', 'Donaldson theory', 'Dynamical systems theory', 'Econometrics', 'Effective descriptive set theory', 'Elementary algebra', 'Elementary arithmetic', 'Elementary mathematics', 'Elementary group theory', 'Elimination theory', 'Elliptic geometry', 'Enumerative combinatorics', 'Enumerative geometry', 'Ergodic Ramsey theory', 'Ergodic theory', 'Euclidean differential geometry', 'Euler calculus', 'Experimental mathematics', 'Extremal combinatorics', 'Extremal graph theory', 'Field theory', 'Finite model theory', 'Finsler geometry', 'Fourier analysis', 'Fractal geometry', 'Fractional calculus', 'Fractional dynamics', 'Fredholm theory', 'Function theory', 'Functional analysis', 'Functional calculus', 'Fuzzy mathematics', 'Fuzzy set theory', 'Galois cohomology', 'Galois theory', 'Galois geometry', 'Game theory', 'General topology', 'Generalized trigonometry', 'Geometric algebra', 'Geometric analysis', 'Geometric calculus', 'Geometric combinatorics', 'Geometric function theory', 'Geometric invariant theory', 'Geometric graph theory', 'Geometric group theory', 'Geometric measure theory', 'Geometric topology', 'Geometry', 'Geometry of numbers', 'Global analysis', 'Graph theory', 'Group-character theory', 'Group theory', 'Gyrotrigonometry', 'Hard analysis', 'Harmonic analysis', 'Higher category theory', 'Higher-dimensional algebra', 'Hodge theory', 'Holomorphic functional calculus', 'Homological algebra', 'Hyperbolic geometry', 'hyperbolic trigonometry', 'Hypercomplex analysis', 'Ideal theory', 'Idempotent analysis', 'Incidence geometry', 'Inconsistent mathematics', 'Infinitary combinatorics', 'Infinitesimal analysis', 'Infinitesimal calculus', 'Information geometry', 'Integral geometry', 'Intersection theory', 'Intuitionistic type theory', 'Invariant theory', 'Inventory theory', 'Inversive geometry', 'Inversive plane geometry', 'Itô calculus', 'Iwasawa theory', 'K-theory', 'K-homology', 'Kähler geometry', 'KK-theory', 'Klein geometry', 'Knot theory', 'Kummer theory', 'L-theory', 'Large deviations theory', 'Large sample theory', 'Lattice theory', 'Lie sphere geometry', 'Linear programming', 'Local algebra', 'Local class field theory', 'Low-dimensional topology', 'Malliavin calculus', 'Mathematical biology', 'Mathematical chemistry', 'Mathematical economics', 'Mathematical finance', 'Mathematical logic', 'Mathematical physics', 'Mathematical psychology', 'Mathematical sciences', 'Mathematical sociology', 'Mathematical statistics', 'Model theory', 'Modern algebra', 'Modern algebraic geometry', 'Modern invariant theory', 'Modular representation theory', 'Morse theory', 'Multilinear algebra', 'Multiplicative number theory', 'Multivariable calculus', 'Neutral geometry', 'Nevanlinna theory', 'Nielsen theory', 'Nonarchimedean dynamics', 'Noncommutative algebraic geometry', 'Noncommutative harmonic analysis', 'Number theory', 'Operad theory', 'Operator theory', 'Optimal control theory', 'Order theory', 'Ordered geometry', 'p-adic analysis', 'p-adic dynamics', 'Paraconsistent mathematics', 'Point-set topology', 'Polyhedral combinatorics', 'Projective geometry', 'Pseudo-Riemannian geometry', 'Pure mathematics', 'Quantum calculus', 'Quantum geometry', 'Ramsey theory', 'Real algebra', 'Real algebraic geometry', 'Real analysis', 'Recreational mathematics', 'Recursion theory', 'Representation theory', 'Ribbon theory', 'Riemannian geometry', 'Rough set theory', 'Scheme theory', 'Semialgebraic geometry', 'Single operator theory', 'Singularity theory', 'Smooth infinitesimal analysis', 'Spectral geometry', 'Spectral graph theory', 'Spectral theory', 'Spectral theory of ordinary differential equations', 'Spectrum continuation analysis', 'Spherical geometry', 'Spherical trigonometry', 'Statistics', 'Stochastic geometry', 'Surgery theory', 'Symbolic computation', 'Symplectic geometry', 'Synthetic differential geometry', 'Synthetic geometry', 'Systolic geometry', 'Systolic hyperbolic geometry', 'Tensor analysis', 'Tensor calculus', 'Tensor theory', 'Tessellation', 'Theoretical physics', 'Topological combinatorics', 'Transcendental number theory', 'Trigonometry', 'Tropical analysis', 'Twisted K-theory', 'Umbral calculus', 'Uncertainty theory', 'Universal algebra', 'Universal hyperbolic trigonometry', 'Vector algebra', 'Vector analysis', 'Vector calculus']\n",
    "philosophy_keywords = ['Absurdism', 'Actual idealism', 'Actualism', 'Advaita Vedanta', 'Aesthetic Realism', 'Aesthetics', 'African philosophy', 'Afrocentrism', 'Agential realism', 'Agnosticism', 'Agnostic theism', 'American philosophy', 'Anarchy', 'Animism', 'Antinatalism', 'Antinomianism — Anti-realism', 'Antireductionism', 'Analytic philosophy', 'Anarchism', 'Ancient philosophy', 'Anthropocentrism', 'Anomalous monism', 'Applied ethics', 'Aristotelianism', 'Asceticism', 'Atheism', 'Authoritarianism', 'Averroism', 'Avicennism', 'Axiology   Baptism', 'Bayesianism', 'Bioconservatism', 'Biosophy', 'Buddhist philosophy   Cartesianism', 'Categorical imperative', 'Charvaka', 'Chinese naturalism', 'Capitalism', 'Chinese philosophy', 'Christian existentialism', 'Christian humanism', 'Christian philosophy', 'Cognitivism', 'Communitarianism', 'Communism', 'Compatibilism and incompatibilism', 'Confirmation holism', 'Confucianism', 'Consequentialism', 'Conceptualism', 'Conservatism', 'Constructivist epistemology', 'Continental philosophy', 'Cosmopolitanism', 'Critical rationalism', 'Critical realism', 'Cynicism', 'Czech philosophy   Danish philosophy', 'Daoism', 'Deconstruction', 'Deism', 'Denialism', 'Deontology', 'Depressionism', 'Determinism', 'Dialectic', 'Dialectical materialism', 'Didacticism', 'Digital physics', 'Discordianism', 'Dualistic cosmology', 'Dvaita   Ecocentrism', 'Ecumenism', 'Egalitarianism', 'Egocentrism', 'Egoism', 'Eliminative materialism', 'Emotivism', 'Empiricism', 'Ephesian school', 'Epiphenomenalism', 'Epicureanism', 'Epistemological nihilism', 'Epistemology', 'Esotericism', 'Essentialism', 'Ethics', 'Eternalism', 'Eudaimonism', 'Existentialism', 'Externalism   Fallibilism', 'Fascism', 'Fatalism', 'Feminist philosophy', 'Filial piety', 'Foundationalism', 'Free will', 'Fundamentalism', '  German idealism', 'German philosophy', 'Gnosticism', 'Greek philosophy', '  Hedonism', 'Hegelianism', 'Hermeticism', 'Henotheism', 'Heterophenomenology', 'Hindu philosophy', 'Historical materialism', 'Historicism', 'Holism', 'Hongaku', 'Humanism', 'Humanistic naturalism', 'Hylozoism', '  Idealism', 'Identityism', 'Ideological criticism', 'Ignosticism', 'Illegalism', 'Illuminationism', 'Individualism', 'Indian logic', 'Indian philosophy', 'Indonesian philosophy', 'Induction', 'Informal logic', 'Innatism', 'Instrumental rationality', 'Instrumentalism', 'Interactionism (philosophy of mind)', 'Internalism and externalism', 'Intuitionism', 'Iranian philosophy', 'Irrealism', 'Islamic ethics', 'Islamic philosophy   Japanese philosophy', 'Jainism', 'Jewish philosophy', 'Jingoism', 'Juche', 'Judeo-Islamic philosophies', 'Just war theory', 'Kantianism', 'Korean philosophy', 'Legalism', 'Leninism', 'Liberalism', 'Libertarianism', 'Libertarianism', 'Logic', 'Logical atomism', 'Logical positivism', 'Logicians', 'Logicism', 'Logic in China', 'Logic in Islamic philosophy', 'Manichaeism', 'Maoism', 'Marxism', 'Marxist philosophy of nature', 'Materialism', 'Mathematicism', 'Maxim (philosophy)', 'Medical ethics', 'Medieval philosophy', 'Medievalism', 'Mentalism', 'Mereological nihilism', 'Merism', 'Meta-philosophy', 'Metaphysics', 'Meta-ethics', 'Milesian school', 'Mimamsa', 'Mind-body dualism', 'Misology', 'Modernism', 'Modern Islamic philosophy', 'Mohism', 'Monism', 'Moral absolutism', 'Moral realism', 'Moral relativism', 'Moral skepticism', 'Mysticism', '  Naïve realism', 'Naturalism', 'Negative utilitarianism', 'Neo-Confucianism', 'Neo-Hegelianism', 'Neo-Kantianism', 'Neoplatonism', 'Neopythagoreanism', 'Neo-Scholasticism', 'Neotaoism', 'Neuroethics', 'Neurophilosophy', 'Neurotheology', 'Neutral monism', 'New realism', 'New Thought', 'Nihilism', 'Nominalism', 'Nondualism', 'Non-philosophy', 'Non-theism', 'Nyaya', '  Objective idealism', 'Objectivism', 'Occasionalism', 'Ontology', 'Ontotheology', 'Open individualism', 'Organicism   Paganism', 'Pakistani philosophy', 'Pancritical rationalism', 'Pandeism', 'Panpsychism', 'Pantheism', 'Pataphysics', 'Perennial philosophy', 'Perfectionism', 'Peripatetic school', 'Personalism', 'Perspectivism', 'Pessimism', 'Phenomenalism', 'Phenomenology', 'Philosophical anthropology', 'Philosophical Satanism', 'Philosophy of archaeology', 'Philosophy of art', 'Philosophy of Arithmetic', 'Philosophy of artificial intelligence', 'Philosophy of action', 'Philosophy of biology', 'Philosophy of business', 'Philosophy of Common Sense', 'Philosophy of culture', 'Philosophy of color', 'The Philosophy of Chance', 'Philosophy of design', 'Philosophy of dialogue', 'Philosophy of eating', 'Philosophy of economics', 'Philosophy of education', 'Philosophy of engineering', 'Philosophy of film', 'Philosophy of futility', 'Philosophy of geography', 'Philosophy of healthcare', 'Philosophy of history', 'Philosophy of information', 'Philosophy of language', 'Philosophy of Law', 'Philosophy of logic', 'Philosophy of love', 'Philosophy of mathematics', 'Philosophy of mathematics education', 'Philosophy of mind', 'Philosophy of motion', 'Philosophy of music', 'Philosophy of nature', 'Philosophy of Natural Science', 'Philosophy of neuroscience', 'Philosophy of perception', 'Philosophy of philosophy', 'Philosophy of physics', 'Philosophy of psychology', 'Philosophy of psychiatry', 'Philosophy of religion', 'Philosophy of religious language', 'Philosophy of science', 'Philosophy of sex', 'Philosophy of self', 'Philosophy of social science', 'Philosophy of space and time', 'Philosophy of sport', 'Philosophy of statistics', 'Philosophy of thermal and statistical physics', 'Philosophy of war', 'Physicalism', 'Physical ontology', 'Platonic realism', 'Platonism', 'Pluralism', 'Political philosophy', 'Populism', 'Positivism', 'Postanalytic philosophy', 'Post-structuralism', 'Posthumanism', 'Post-materialism', 'Post-modernism', 'Postpositivism- Practical reason', 'Pragmatism', 'Praxis School', 'Probabilism', 'Presentism', 'Process philosophy', 'Progressivism', 'Property dualism', 'Pseudophilosophy', 'Psychological egoism', 'Pure practical reason', 'Pure reason', 'Pyrrhonian skepticism', 'Pyrrhonism', 'Pythagoreanism', '  Quantum mysticism', 'Quietism   Raëlism', 'Rastafari', 'Rationalism', 'Realism', 'Reconstructivism', 'Reductionism', 'Reductive materialism', 'Reformational philosophy', 'Relationalism', 'Relativism', 'Relevance logic', 'Religious humanism', 'Religious philosophy', 'Reliabilism', 'Renaissance humanism', 'Romanian philosophy', 'Romanticism', 'Russian cosmism', 'Russian philosophy   Sabellianism', 'Sankhya', 'Scotism', 'Scholasticism', 'Scientism', 'Secularism', 'Secular humanism', 'Semantic holism', 'Sensualism', 'Sexualism', 'Sexism', 'Shamanism', 'Sikhism', 'Singularitarianism', 'Skepticism', 'Skeptical theism', 'Socialism', 'Social philosophy', 'Solipsism', 'Sophism', 'Spiritualism', 'Stoicism', 'Structuralism', 'Subjective idealism', 'Subjectivism', 'Sufi metaphysics', 'Śūnyatā', 'Supersessionism', 'Synoptic philosophy', 'Systems philosophy', '  Taoism', 'Teleology', 'Tetralemma', 'Theistic finitism', 'Theism', 'Thelema', 'Theology', 'Theosophy', 'Thomism', 'Traditionalist School', 'Transcendent theosophy (al-Hikmat al-Muta’liyah)', 'Transcendental idealism', 'Transcendentalism', 'Transcendental perspectivism', 'Transhumanism', 'Transmodernism', 'Type physicalism  Ubuntu', 'Universalism', 'Utilitarian bioethics', 'Utilitarianism', 'Value pluralism', 'Value theory', 'Vedanta', 'Verificationism', 'Verism', 'Vienna Circle', 'Virtue ethics', 'Vitalism', 'Voluntaryism- Western philosophy', 'Wu wei', 'Zen', 'Zoroastrianism', 'Zurvanism']"
   ]
  },
  {
   "cell_type": "code",
   "execution_count": 4,
   "metadata": {},
   "outputs": [],
   "source": [
    "def get_docs(keyword_list):\n",
    "    \"\"\"\n",
    "    Takes a list of keywords and returns a list of articles from wikipedia\n",
    "    that match the keywords.\n",
    "    \"\"\"\n",
    "    wiki = wikipediaapi.Wikipedia('en')\n",
    "    num_found = 0\n",
    "    doc_list, title_list = [], []\n",
    "    for keyword in keyword_list:\n",
    "        page_py = wiki.page(keyword)\n",
    "        if page_py.exists():\n",
    "            doc_list.append(page_py.summary)\n",
    "            title_list.append(page_py.title)\n",
    "            num_found+=1\n",
    "    print(\"Found \"+str(num_found)+\" articles out of \"+str(len(keyword_list)))\n",
    "    return doc_list, title_list"
   ]
  },
  {
   "cell_type": "code",
   "execution_count": 5,
   "metadata": {},
   "outputs": [
    {
     "name": "stdout",
     "output_type": "stream",
     "text": [
      "History articles: \n",
      "\n",
      "Found 77 articles out of 90\n",
      "Math articles: \n",
      "\n",
      "Found 287 articles out of 307\n",
      "Philosophy articles: \n",
      "\n",
      "Found 376 articles out of 392\n"
     ]
    }
   ],
   "source": [
    "print(\"History articles: \\n\")\n",
    "history_docs, history_titles = get_docs(history_keywords)\n",
    "print(\"Math articles: \\n\")\n",
    "math_docs, math_titles = get_docs(math_keywords)\n",
    "print(\"Philosophy articles: \\n\")\n",
    "philosophy_docs, philosophy_titles = get_docs(philosophy_keywords)"
   ]
  },
  {
   "cell_type": "code",
   "execution_count": 37,
   "metadata": {},
   "outputs": [],
   "source": [
    "# merge into one dataset doc_list\n",
    "doc_list = history_docs+math_docs+philosophy_docs\n",
    "title_list = history_titles+math_titles+philosophy_titles\n",
    "label_list = [0 for _ in range(len(history_docs))] + [1 for _ in range(len(math_docs))] + [2 for _ in range(len(math_docs))]\n",
    "c = list(zip(doc_list, title_list, label_list))\n",
    "random.shuffle(c)\n",
    "doc_list, title_list, label_list = zip(*c)\n",
    "\n"
   ]
  },
  {
   "cell_type": "code",
   "execution_count": 41,
   "metadata": {},
   "outputs": [
    {
     "name": "stdout",
     "output_type": "stream",
     "text": [
      "77\n"
     ]
    }
   ],
   "source": []
  },
  {
   "cell_type": "code",
   "execution_count": null,
   "metadata": {},
   "outputs": [],
   "source": []
  },
  {
   "cell_type": "code",
   "execution_count": 42,
   "metadata": {},
   "outputs": [],
   "source": [
    "import numpy as np\n",
    "import os\n",
    "from nltk.corpus import stopwords\n",
    "from nltk.tokenize import sent_tokenize, word_tokenize\n",
    "from keras.preprocessing.text import Tokenizer\n",
    "from keras.preprocessing.sequence import pad_sequences\n",
    "\n",
    "import re\n",
    "import pandas as pd\n",
    "import matplotlib.pyplot as plt\n",
    "import tensorflow as tf\n",
    "\n",
    "from nltk.stem import PorterStemmer\n",
    "from multiprocessing import Pool\n",
    "\n",
    "# Tokenization and Cleaning\n",
    "        \n",
    "\n",
    "def split_string(lines):\n",
    "    sent_tokens = []\n",
    "    for line in lines:\n",
    "        line = re.sub(\"\\n\", \"\", line)\n",
    "        line = re.sub(\"\\\\\\\\.\", \"\", line)\n",
    "        line = re.sub(\"===\", \"\", line)\n",
    "        for sent in sent_tokenize(line):\n",
    "            sent_tokens.append(sent)\n",
    "    return sent_tokens\n",
    "\n",
    "def one_hot_enc(tup):\n",
    "    ar, dic_size = tup\n",
    "    #print(ar)\n",
    "    n = np.max(ar) +1\n",
    "    #count = np.sum(np.eye(dic_size)[ar], axis= 0)\n",
    "    count = np.sum(tf.one_hot(ar, n), axis= 0)/len(ar)\n",
    "    bl = np.array(count, dtype=bool)\n",
    "    ex = bl.astype(int)\n",
    "    \n",
    "    #padded = pad_sequences(oh, maxlen=x_voc_size, padding='post', truncating='post')\n",
    "    return count, ex\n",
    "\n",
    "def one_hot_all(input, dic_size):\n",
    "    #print(len(x_train))\n",
    "    #print(len(x_train[0]))\n",
    "    #print(x_train[0])\n",
    "    print(\"one hot all\")\n",
    "    existence = []\n",
    "    occurrence = []\n",
    "    p = Pool()\n",
    "    vector_input = [(each, dic_size) for each in input]\n",
    "    result = p.map(one_hot_enc,vector_input)\n",
    "    for each in result:\n",
    "        count, ex = each\n",
    "        existence.append(ex)\n",
    "        occurrence.append(count)\n",
    "\n",
    "    ex = pad_sequences(existence, maxlen=dic_size, padding='post', truncating='post')\n",
    "    count = pad_sequences(occurrence, maxlen=dic_size, padding='post', truncating='post', dtype=float)\n",
    "    return ex, count\n"
   ]
  },
  {
   "cell_type": "code",
   "execution_count": null,
   "metadata": {},
   "outputs": [],
   "source": []
  },
  {
   "cell_type": "code",
   "execution_count": 43,
   "metadata": {},
   "outputs": [
    {
     "name": "stderr",
     "output_type": "stream",
     "text": [
      "/usr/local/Anaconda3-2021.05/lib/python3.8/site-packages/numpy/core/_asarray.py:171: VisibleDeprecationWarning: Creating an ndarray from ragged nested sequences (which is a list-or-tuple of lists-or-tuples-or ndarrays with different lengths or shapes) is deprecated. If you meant to do this, you must specify 'dtype=object' when creating the ndarray.\n",
      "  return array(a, dtype, copy=False, order=order, subok=True)\n"
     ]
    }
   ],
   "source": [
    "summary_overall = []\n",
    "\n",
    "summary_count = []\n",
    "stop_words = set(stopwords.words('english'))\n",
    "ps = PorterStemmer()\n",
    "#word tokenization + eliminating stopwords + words stemming + eliminating short words\n",
    "def clean(string):\n",
    "    word_tokens = word_tokenize(string)\n",
    "    filtered_sentence = [ps.stem(w) for w in word_tokens if (not w in stop_words) and (len(w)>3)]\n",
    "    return filtered_sentence \n",
    "\n",
    "for lines in doc_list:\n",
    "    if lines is None:\n",
    "        continue\n",
    "    \n",
    "\n",
    "    \n",
    "\n",
    "    clean_summary = []\n",
    "    sum_count = 0\n",
    "    for line in sent_tokenize(lines):\n",
    "        temp = clean(line)\n",
    "        if temp != []:\n",
    "            sum_count+= (len(temp))\n",
    "            for t in temp:\n",
    "                clean_summary.append(t)\n",
    "    summary_overall.append(clean_summary)\n",
    "    summary_count.append(sum_count)   \n",
    "    #print(summary_overall)\n",
    "    #print(summary_count)\n",
    "\n",
    "\n",
    "\n",
    "    '''if limited is True:\n",
    "        if len(title_overall)>= 500:\n",
    "            break'''\n",
    "\n",
    "\n",
    "## Store sentence vectors:\n",
    "#max_text_len = 20000\n",
    "#max_summary_len = 200\n",
    "#if only_summary is False:\n",
    "\n",
    "\n",
    "y_tokenizer = Tokenizer()\n",
    "y_tokenizer.fit_on_texts(summary_overall)\n",
    "\n",
    "sum_vec = y_tokenizer.texts_to_sequences(summary_overall)\n",
    "\n",
    "\n",
    "#y_train = pad_sequences(y_train, maxlen=max_summary_len, padding='post', truncating='post')\n",
    "#y_test = pad_sequences(y_train, maxlen=max_summary_len, padding='post', truncating='post')\n",
    "\n",
    "\n",
    "sum_voc_size = len(y_tokenizer.word_index)+1\n",
    "\n",
    "\n",
    "\n",
    "\n",
    "## Save the preprocessed data to file\n",
    "np.savez('preprocessed_topic', summary_word2vec = sum_vec, labels = title_list,\n",
    "                             summary_voc_size=sum_voc_size, predict_label = label\n",
    "                        )\n",
    "\n",
    "\n"
   ]
  },
  {
   "cell_type": "code",
   "execution_count": null,
   "metadata": {},
   "outputs": [],
   "source": []
  },
  {
   "cell_type": "code",
   "execution_count": 44,
   "metadata": {},
   "outputs": [
    {
     "name": "stdout",
     "output_type": "stream",
     "text": [
      "[257, 197, 53, 109, 85, 62, 95, 136, 283, 187]\n",
      "651\n"
     ]
    },
    {
     "data": {
      "image/png": "[encoded data removed]",
      "text/plain": [
       "<Figure size 432x288 with 1 Axes>"
      ]
     },
     "metadata": {
      "needs_background": "light"
     },
     "output_type": "display_data"
    }
   ],
   "source": [
    "print(summary_count[:10])\n",
    "\n",
    "print(len(summary_overall))\n",
    "overview = pd.DataFrame({'summary':summary_count})\n",
    "overview.hist(bins=30)\n",
    "plt.show()"
   ]
  },
  {
   "cell_type": "markdown",
   "metadata": {},
   "source": [
    "# Preprocessing"
   ]
  },
  {
   "cell_type": "code",
   "execution_count": 7,
   "metadata": {},
   "outputs": [],
   "source": [
    "stop_words = set([\"i\", \"me\", \"my\", \"myself\", \"we\", \"our\", \"ours\", \"ourselves\", \"you\", \"your\", \"yours\", \"yourself\", \"yourselves\", \"he\", \"him\", \"his\", \"himself\", \"she\", \"her\", \"hers\", \"herself\", \"it\", \"its\", \"itself\", \"they\", \"them\", \"their\", \"theirs\", \"themselves\", \"what\", \"which\", \"who\", \"whom\", \"this\", \"that\", \"these\", \"those\", \"am\", \"is\", \"are\", \"was\", \"were\", \"be\", \"been\", \"being\", \"have\", \"has\", \"had\", \"having\", \"do\", \"does\", \"did\", \"doing\", \"a\", \"an\", \"the\", \"and\", \"but\", \"if\", \"or\", \"because\", \"as\", \"until\", \"while\", \"of\", \"at\", \"by\", \"for\", \"with\", \"about\", \"against\", \"between\", \"into\", \"through\", \"during\", \"before\", \"after\", \"above\", \"below\", \"to\", \"from\", \"up\", \"down\", \"in\", \"out\", \"on\", \"off\", \"over\", \"under\", \"again\", \"further\", \"then\", \"once\", \"here\", \"there\", \"when\", \"where\", \"why\", \"how\", \"all\", \"any\", \"both\", \"each\", \"few\", \"more\", \"most\", \"other\", \"some\", \"such\", \"no\", \"nor\", \"not\", \"only\", \"own\", \"same\", \"so\", \"than\", \"too\", \"very\", \"s\", \"t\", \"can\", \"will\", \"just\", \"don\", \"should\", \"now\"]) \n",
    "contraction_mapping = {\"ain't\": \"is not\", \"aren't\": \"are not\",\"can't\": \"cannot\", \"'cause\": \"because\", \"could've\": \"could have\", \"couldn't\": \"could not\",\n",
    "                           \"didn't\": \"did not\",  \"doesn't\": \"does not\", \"don't\": \"do not\", \"hadn't\": \"had not\", \"hasn't\": \"has not\", \"haven't\": \"have not\",\n",
    "                           \"he'd\": \"he would\",\"he'll\": \"he will\", \"he's\": \"he is\", \"how'd\": \"how did\", \"how'd'y\": \"how do you\", \"how'll\": \"how will\", \"how's\": \"how is\",\n",
    "                           \"I'd\": \"I would\", \"I'd've\": \"I would have\", \"I'll\": \"I will\", \"I'll've\": \"I will have\",\"I'm\": \"I am\", \"I've\": \"I have\", \"i'd\": \"i would\",\n",
    "                           \"i'd've\": \"i would have\", \"i'll\": \"i will\",  \"i'll've\": \"i will have\",\"i'm\": \"i am\", \"i've\": \"i have\", \"isn't\": \"is not\", \"it'd\": \"it would\",\n",
    "                           \"it'd've\": \"it would have\", \"it'll\": \"it will\", \"it'll've\": \"it will have\",\"it's\": \"it is\", \"let's\": \"let us\", \"ma'am\": \"madam\",\n",
    "                           \"mayn't\": \"may not\", \"might've\": \"might have\",\"mightn't\": \"might not\",\"mightn't've\": \"might not have\", \"must've\": \"must have\",\n",
    "                           \"mustn't\": \"must not\", \"mustn't've\": \"must not have\", \"needn't\": \"need not\", \"needn't've\": \"need not have\",\"o'clock\": \"of the clock\",\n",
    "                           \"oughtn't\": \"ought not\", \"oughtn't've\": \"ought not have\", \"shan't\": \"shall not\", \"sha'n't\": \"shall not\", \"shan't've\": \"shall not have\",\n",
    "                           \"she'd\": \"she would\", \"she'd've\": \"she would have\", \"she'll\": \"she will\", \"she'll've\": \"she will have\", \"she's\": \"she is\",\n",
    "                           \"should've\": \"should have\", \"shouldn't\": \"should not\", \"shouldn't've\": \"should not have\", \"so've\": \"so have\",\"so's\": \"so as\",\n",
    "                           \"this's\": \"this is\",\"that'd\": \"that would\", \"that'd've\": \"that would have\", \"that's\": \"that is\", \"there'd\": \"there would\",\n",
    "                           \"there'd've\": \"there would have\", \"there's\": \"there is\", \"here's\": \"here is\",\"they'd\": \"they would\", \"they'd've\": \"they would have\",\n",
    "                           \"they'll\": \"they will\", \"they'll've\": \"they will have\", \"they're\": \"they are\", \"they've\": \"they have\", \"to've\": \"to have\",\n",
    "                           \"wasn't\": \"was not\", \"we'd\": \"we would\", \"we'd've\": \"we would have\", \"we'll\": \"we will\", \"we'll've\": \"we will have\", \"we're\": \"we are\",\n",
    "                           \"we've\": \"we have\", \"weren't\": \"were not\", \"what'll\": \"what will\", \"what'll've\": \"what will have\", \"what're\": \"what are\",\n",
    "                           \"what's\": \"what is\", \"what've\": \"what have\", \"when's\": \"when is\", \"when've\": \"when have\", \"where'd\": \"where did\", \"where's\": \"where is\",\n",
    "                           \"where've\": \"where have\", \"who'll\": \"who will\", \"who'll've\": \"who will have\", \"who's\": \"who is\", \"who've\": \"who have\",\n",
    "                           \"why's\": \"why is\", \"why've\": \"why have\", \"will've\": \"will have\", \"won't\": \"will not\", \"won't've\": \"will not have\",\n",
    "                           \"would've\": \"would have\", \"wouldn't\": \"would not\", \"wouldn't've\": \"would not have\", \"y'all\": \"you all\",\n",
    "                           \"y'all'd\": \"you all would\",\"y'all'd've\": \"you all would have\",\"y'all're\": \"you all are\",\"y'all've\": \"you all have\",\n",
    "                           \"you'd\": \"you would\", \"you'd've\": \"you would have\", \"you'll\": \"you will\", \"you'll've\": \"you will have\",\n",
    "                           \"you're\": \"you are\", \"you've\": \"you have\"}"
   ]
  },
  {
   "cell_type": "code",
   "execution_count": 8,
   "metadata": {},
   "outputs": [],
   "source": [
    "def preprocess(text):\n",
    "    newString = text.lower()\n",
    "    newString = re.sub(r'\\([^)]*\\)', '', newString)\n",
    "    newString = re.sub('\"','', newString)\n",
    "    newString = ' '.join([contraction_mapping[t] if t in contraction_mapping else t for t in newString.split(\" \")])    \n",
    "    newString = re.sub(r\"'s\\b\",\"\",newString)\n",
    "    newString = re.sub(\"[^a-zA-Z]\", \" \", newString) \n",
    "    newString = re.sub('[m]{2,}', 'mm', newString)\n",
    "    tokens = [w for w in newString.split() if not w in stop_words]\n",
    "    long_words=[]\n",
    "    for i in tokens:\n",
    "        if len(i)>1:                                          \n",
    "            long_words.append(i)   \n",
    "    return (\" \".join(long_words)).strip()"
   ]
  },
  {
   "cell_type": "code",
   "execution_count": 9,
   "metadata": {},
   "outputs": [],
   "source": [
    "preprocessed_docs = []\n",
    "for doc in doc_list:\n",
    "    preprocessed_docs.append(preprocess(doc)) "
   ]
  },
  {
   "cell_type": "markdown",
   "metadata": {},
   "source": [
    "# Vectorize documents"
   ]
  },
  {
   "cell_type": "code",
   "execution_count": 17,
   "metadata": {},
   "outputs": [],
   "source": [
    "spacy_model = spacy.load(\"en_core_web_sm\")"
   ]
  },
  {
   "cell_type": "code",
   "execution_count": 18,
   "metadata": {},
   "outputs": [],
   "source": [
    "def vectorize(docs):\n",
    "    vec_list = list()\n",
    "    for doc in docs:\n",
    "        doc_model = spacy_model(doc)\n",
    "        doc_vec = np.zeros(doc_model[0].vector.shape)\n",
    "        for tok in doc_model:\n",
    "            if tok.text not in stop_words:\n",
    "                doc_vec += tok.vector\n",
    "        vec_list.append(doc_vec)\n",
    "    return vec_list"
   ]
  },
  {
   "cell_type": "code",
   "execution_count": 19,
   "metadata": {},
   "outputs": [],
   "source": [
    "vec_list = vectorize(preprocessed_docs)"
   ]
  },
  {
   "cell_type": "markdown",
   "metadata": {},
   "source": [
    "# Cluster and plot"
   ]
  },
  {
   "cell_type": "code",
   "execution_count": 20,
   "metadata": {},
   "outputs": [
    {
     "data": {
      "image/png": "[encoded data removed]",
      "text/plain": [
       "<Figure size 432x288 with 1 Axes>"
      ]
     },
     "metadata": {
      "needs_background": "light"
     },
     "output_type": "display_data"
    }
   ],
   "source": [
    "# reduce to two dimensions using pca\n",
    "pca = PCA(2)\n",
    "reduced_vec_list = pca.fit_transform(vec_list)\n",
    "\n",
    "# perform kmeans on the reduced data\n",
    "kmeans = KMeans(n_clusters= 3)\n",
    "label = kmeans.fit_predict(reduced_vec_list)\n",
    "\n",
    "# plot clusters\n",
    "u_labels = np.unique(label)\n",
    "for i in u_labels:\n",
    "    \n",
    "    plt.scatter(reduced_vec_list[label == i , 0] , reduced_vec_list[label == i , 1] , label = i)\n",
    "plt.legend()\n",
    "plt.show()"
   ]
  },
  {
   "cell_type": "code",
   "execution_count": 36,
   "metadata": {},
   "outputs": [
    {
     "name": "stdout",
     "output_type": "stream",
     "text": [
      "<class 'numpy.ndarray'>\n"
     ]
    }
   ],
   "source": [
    "print(type(reduced_vec_list))"
   ]
  },
  {
   "cell_type": "code",
   "execution_count": 38,
   "metadata": {},
   "outputs": [],
   "source": [
    "np.savez(\"labels\", label=label_list)"
   ]
  }
 ],
 "metadata": {
  "interpreter": {
   "hash": "40d3a090f54c6569ab1632332b64b2c03c39dcf918b08424e98f38b5ae0af88f"
  },
  "kernelspec": {
   "display_name": "CSE204",
   "language": "python",
   "name": "cse204"
  },
  "language_info": {
   "codemirror_mode": {
    "name": "ipython",
    "version": 3
   },
   "file_extension": ".py",
   "mimetype": "text/x-python",
   "name": "python",
   "nbconvert_exporter": "python",
   "pygments_lexer": "ipython3",
   "version": "3.8.8"
  }
 },
 "nbformat": 4,
 "nbformat_minor": 4
}
